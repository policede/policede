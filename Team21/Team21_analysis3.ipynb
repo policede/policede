{
 "cells": [
  {
   "cell_type": "code",
   "execution_count": 1,
   "metadata": {},
   "outputs": [
    {
     "name": "stderr",
     "output_type": "stream",
     "text": [
      "C:\\Users\\wprkff.DESKTOP-4NRCJTN\\Anaconda3\\lib\\site-packages\\ipykernel_launcher.py:11: SettingWithCopyWarning: \n",
      "A value is trying to be set on a copy of a slice from a DataFrame.\n",
      "Try using .loc[row_indexer,col_indexer] = value instead\n",
      "\n",
      "See the caveats in the documentation: http://pandas.pydata.org/pandas-docs/stable/indexing.html#indexing-view-versus-copy\n",
      "  # This is added back by InteractiveShellApp.init_path()\n",
      "C:\\Users\\wprkff.DESKTOP-4NRCJTN\\Anaconda3\\lib\\site-packages\\ipykernel_launcher.py:12: SettingWithCopyWarning: \n",
      "A value is trying to be set on a copy of a slice from a DataFrame.\n",
      "Try using .loc[row_indexer,col_indexer] = value instead\n",
      "\n",
      "See the caveats in the documentation: http://pandas.pydata.org/pandas-docs/stable/indexing.html#indexing-view-versus-copy\n",
      "  if sys.path[0] == '':\n"
     ]
    }
   ],
   "source": [
    "import numpy as np\n",
    "import pandas as pd\n",
    "import matplotlib.pyplot as plt\n",
    "%matplotlib inline\n",
    "import pandas as pd\n",
    "import statsmodels.formula.api as sm\n",
    "\n",
    "# OBP 등 세부 지표는 2002년부터 기록되어 있으므로 2002년 이상의 시즌에서 뛴 선수만 채택\n",
    "team_batiing = pd.read_excel('1982_2017_hitter_halfmab.xlsx')\n",
    "team_batiing_2002 = team_batiing[team_batiing['season'] > 2002]\n",
    "team_batiing_2002['BB/PA'] = team_batiing_2002['BB']/team_batiing_2002['PA']\n",
    "team_batiing_2002['HR/PA'] = team_batiing_2002['HR']/team_batiing_2002['PA']"
   ]
  },
  {
   "cell_type": "code",
   "execution_count": 2,
   "metadata": {},
   "outputs": [],
   "source": [
    "#train과 test를 2:1의 비로 랜덤으로 나누기 위한 과정\n",
    "team_batiing_2002_random = team_batiing_2002.sample(frac=1)\n",
    "\n",
    "#새로운 타격지표 new_value_1\n",
    "new_value_1 = 0.95*team_batiing_2002_random['OBP'] + 0.93*team_batiing_2002_random['SLG'] + 0.97*team_batiing_2002_random['AVG']\n",
    "team_batiing_2002_random['new_value_1'] = new_value_1\n",
    "\n",
    "#새로운 타격지표 new_value_2\n",
    "new_value_2 = 0.99*team_batiing_2002_random['RBI']+0.99*team_batiing_2002_random['R']+0.95*team_batiing_2002_random['AVG']\n",
    "team_batiing_2002_random['new_value_2'] =new_value_2\n",
    "\n",
    "team_batiing_2002_random = team_batiing_2002_random.reset_index()"
   ]
  },
  {
   "cell_type": "code",
   "execution_count": 9,
   "metadata": {},
   "outputs": [
    {
     "name": "stdout",
     "output_type": "stream",
     "text": [
      "                            OLS Regression Results                            \n",
      "==============================================================================\n",
      "Dep. Variable:                    WAR   R-squared:                       0.680\n",
      "Model:                            OLS   Adj. R-squared:                  0.680\n",
      "Method:                 Least Squares   F-statistic:                     1650.\n",
      "Date:                Fri, 15 Dec 2017   Prob (F-statistic):          3.68e-194\n",
      "Time:                        23:46:16   Log-Likelihood:                -1112.1\n",
      "No. Observations:                 777   AIC:                             2228.\n",
      "Df Residuals:                     775   BIC:                             2237.\n",
      "Df Model:                           1                                         \n",
      "Covariance Type:            nonrobust                                         \n",
      "===============================================================================\n",
      "                  coef    std err          t      P>|t|      [0.025      0.975]\n",
      "-------------------------------------------------------------------------------\n",
      "Intercept      -8.8799      0.276    -32.162      0.000      -9.422      -8.338\n",
      "new_value_1    11.2541      0.277     40.621      0.000      10.710      11.798\n",
      "==============================================================================\n",
      "Omnibus:                        6.822   Durbin-Watson:                   2.040\n",
      "Prob(Omnibus):                  0.033   Jarque-Bera (JB):                6.809\n",
      "Skew:                           0.229   Prob(JB):                       0.0332\n",
      "Kurtosis:                       3.025   Cond. No.                         15.1\n",
      "==============================================================================\n",
      "\n",
      "Warnings:\n",
      "[1] Standard Errors assume that the covariance matrix of the errors is correctly specified.\n"
     ]
    },
    {
     "name": "stderr",
     "output_type": "stream",
     "text": [
      "C:\\Users\\wprkff.DESKTOP-4NRCJTN\\Anaconda3\\lib\\site-packages\\ipykernel_launcher.py:11: SettingWithCopyWarning: \n",
      "A value is trying to be set on a copy of a slice from a DataFrame.\n",
      "Try using .loc[row_indexer,col_indexer] = value instead\n",
      "\n",
      "See the caveats in the documentation: http://pandas.pydata.org/pandas-docs/stable/indexing.html#indexing-view-versus-copy\n",
      "  # This is added back by InteractiveShellApp.init_path()\n"
     ]
    },
    {
     "data": {
      "text/plain": [
       "Text(0.5,1,'new_value_1 and WAR_test')"
      ]
     },
     "execution_count": 9,
     "metadata": {},
     "output_type": "execute_result"
    },
    {
     "data": {
      "image/png": "[encoded data removed]",
      "text/plain": [
       "<matplotlib.figure.Figure at 0x19c49a6ec88>"
      ]
     },
     "metadata": {},
     "output_type": "display_data"
    }
   ],
   "source": [
    "#전체 데이터의 2/3에 해당하는 train 데이터에 대해서 회귀분석을 training 하는 과정\n",
    "train = team_batiing_2002_random[team_batiing_2002_random.index  < round(len(team_batiing_2002_random)*2/3)]\n",
    "result = sm.ols(formula = 'WAR ~ new_value_1', data = train).fit()\n",
    "print (result.summary())\n",
    "\n",
    "\n",
    "\n",
    "#전체 데이터의 1/3에 해당하는 test 데이터에 대해서 위의 회귀분석 결과를 test 하는 과정\n",
    "\n",
    "test = team_batiing_2002_random[team_batiing_2002_random.index  >= round(len(team_batiing_2002_random)*2/3) ]\n",
    "test['predict_war'] = result.params[1]* test['new_value_1'] + result.params[0]  #training을 통해 얻은 회귀식\n",
    "real_predict = test[['WAR','predict_war']]\n",
    "real_predict\n",
    "rmse_1= ((real_predict['WAR'] - real_predict['predict_war']) ** 2).mean() ** .5 #new_value1의 rmse\n",
    "\n",
    "plt.scatter(train['new_value_1'], train['WAR'], label=\"data\")\n",
    "plt.xlabel(\"new_value_1\")\n",
    "plt.ylabel(\"WAR\")\n",
    "plt.title(\"new_value_1 and WAR_test\")"
   ]
  },
  {
   "cell_type": "code",
   "execution_count": 11,
   "metadata": {},
   "outputs": [
    {
     "name": "stdout",
     "output_type": "stream",
     "text": [
      "                            OLS Regression Results                            \n",
      "==============================================================================\n",
      "Dep. Variable:                    WAR   R-squared:                       0.621\n",
      "Model:                            OLS   Adj. R-squared:                  0.620\n",
      "Method:                 Least Squares   F-statistic:                     1269.\n",
      "Date:                Fri, 15 Dec 2017   Prob (F-statistic):          2.08e-165\n",
      "Time:                        23:46:43   Log-Likelihood:                -1178.4\n",
      "No. Observations:                 777   AIC:                             2361.\n",
      "Df Residuals:                     775   BIC:                             2370.\n",
      "Df Model:                           1                                         \n",
      "Covariance Type:            nonrobust                                         \n",
      "===============================================================================\n",
      "                  coef    std err          t      P>|t|      [0.025      0.975]\n",
      "-------------------------------------------------------------------------------\n",
      "Intercept      -1.3189      0.107    -12.281      0.000      -1.530      -1.108\n",
      "new_value_2     0.0349      0.001     35.629      0.000       0.033       0.037\n",
      "==============================================================================\n",
      "Omnibus:                        6.732   Durbin-Watson:                   1.969\n",
      "Prob(Omnibus):                  0.035   Jarque-Bera (JB):                6.791\n",
      "Skew:                           0.187   Prob(JB):                       0.0335\n",
      "Kurtosis:                       3.265   Cond. No.                         297.\n",
      "==============================================================================\n",
      "\n",
      "Warnings:\n",
      "[1] Standard Errors assume that the covariance matrix of the errors is correctly specified.\n"
     ]
    },
    {
     "name": "stderr",
     "output_type": "stream",
     "text": [
      "C:\\Users\\wprkff.DESKTOP-4NRCJTN\\Anaconda3\\lib\\site-packages\\ipykernel_launcher.py:11: SettingWithCopyWarning: \n",
      "A value is trying to be set on a copy of a slice from a DataFrame.\n",
      "Try using .loc[row_indexer,col_indexer] = value instead\n",
      "\n",
      "See the caveats in the documentation: http://pandas.pydata.org/pandas-docs/stable/indexing.html#indexing-view-versus-copy\n",
      "  # This is added back by InteractiveShellApp.init_path()\n"
     ]
    },
    {
     "data": {
      "text/plain": [
       "Text(0.5,1,'new_value_2 and WAR_2_test')"
      ]
     },
     "execution_count": 11,
     "metadata": {},
     "output_type": "execute_result"
    },
    {
     "data": {
      "image/png": "[encoded data removed]",
      "text/plain": [
       "<matplotlib.figure.Figure at 0x19c45a10780>"
      ]
     },
     "metadata": {},
     "output_type": "display_data"
    }
   ],
   "source": [
    "#전체 데이터의 2/3에 해당하는 train 데이터에 대해서 회귀분석을 training 하는 과정\n",
    "train = team_batiing_2002_random[team_batiing_2002_random.index  < round(len(team_batiing_2002_random)*2/3)]\n",
    "result = sm.ols(formula = 'WAR ~ new_value_2', data = train).fit()\n",
    "print (result.summary())\n",
    "\n",
    "\n",
    "\n",
    "#전체 데이터의 1/3에 해당하는 test 데이터에 대해서 위의 회귀분석 결과를 test 하는 과정\n",
    "\n",
    "test = team_batiing_2002_random[team_batiing_2002_random.index  >= round(len(team_batiing_2002_random)*2/3) ]\n",
    "test['predict_war'] = result.params[1]* test['new_value_2'] + result.params[0]\n",
    "real_predict = test[['WAR','predict_war']]\n",
    "real_predict\n",
    "rmse_2= ((real_predict['WAR'] - real_predict['predict_war']) ** 2).mean() ** .5 #new_value1의 rmse\n",
    "\n",
    "plt.scatter(train['new_value_2'], train['WAR'], label=\"data\")\n",
    "plt.xlabel(\"new_value_2\")\n",
    "plt.ylabel(\"WAR\")\n",
    "plt.title(\"new_value_2 and WAR_2_test\")"
   ]
  },
  {
   "cell_type": "code",
   "execution_count": 8,
   "metadata": {},
   "outputs": [
    {
     "name": "stdout",
     "output_type": "stream",
     "text": [
      "new_value1 is better than new_value2\n"
     ]
    }
   ],
   "source": [
    "if rmse_1 > rmse_2:\n",
    "    print('new_value2 is better than new_value1')\n",
    "elif rmse_1 < rmse_2:\n",
    "    print('new_value1 is better than new_value2')\n",
    "else:\n",
    "    print('same')"
   ]
  }
 ],
 "metadata": {
  "kernelspec": {
   "display_name": "Python 3",
   "language": "python",
   "name": "python3"
  },
  "language_info": {
   "codemirror_mode": {
    "name": "ipython",
    "version": 3
   },
   "file_extension": ".py",
   "mimetype": "text/x-python",
   "name": "python",
   "nbconvert_exporter": "python",
   "pygments_lexer": "ipython3",
   "version": "3.6.3"
  }
 },
 "nbformat": 4,
 "nbformat_minor": 2
}
